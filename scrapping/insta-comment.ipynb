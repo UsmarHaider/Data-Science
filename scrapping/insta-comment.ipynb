{
 "cells": [
  {
   "cell_type": "code",
   "execution_count": 1,
   "metadata": {},
   "outputs": [
    {
     "name": "stderr",
     "output_type": "stream",
     "text": [
      "d:\\SEMESTER 5\\anaconda\\lib\\site-packages\\win_unicode_console\\__init__.py:31: RuntimeWarning: sys.stdin.encoding == 'utf-8', whereas sys.stdout.encoding == 'UTF-8', readline hook consumer may assume they are the same\n",
      "  readline_hook.enable(use_pyreadline=use_pyreadline)\n"
     ]
    }
   ],
   "source": [
    "import instaloader\n",
    "from time import sleep\n",
    "import undetected_chromedriver as uc\n",
    "from selenium.webdriver.chrome.options import Options\n",
    "import undetected_chromedriver as uc\n",
    "from selenium.webdriver.common.by import By\n",
    "from selenium.webdriver.support import expected_conditions as EC\n",
    "from selenium.webdriver.support.ui import WebDriverWait\n",
    "from time import sleep\n",
    "from selenium.common.exceptions import StaleElementReferenceException\n",
    "import openpyxl\n",
    "from selenium.common.exceptions import NoSuchElementException\n",
    "from selenium import webdriver\n",
    "from selenium.webdriver.common.keys import Keys\n",
    "from selenium.webdriver.common.action_chains import ActionChains\n",
    "import openpyxl"
   ]
  },
  {
   "cell_type": "code",
   "execution_count": 12,
   "metadata": {},
   "outputs": [],
   "source": [
    "options = uc.ChromeOptions()\n",
    "driver = uc.Chrome(options=options)\n",
    "driver.maximize_window()\n",
    "driver.get('https://www.instagram.com/')\n",
    "\n",
    "username_input = WebDriverWait(driver, 30).until(EC.element_to_be_clickable((By.CSS_SELECTOR,\"input[name='username']\")))\n",
    "password_input = WebDriverWait(driver, 30).until(EC.element_to_be_clickable((By.CSS_SELECTOR,\"input[name='password']\")))\n",
    "\n",
    "username_input.send_keys('usmarsays')\n",
    "password_input.send_keys('usmarhaiderl201095')\n",
    "\n",
    "login_button = driver.find_element(By.XPATH,\"//button[@type='submit']\")\n",
    "login_button.click()\n"
   ]
  },
  {
   "cell_type": "code",
   "execution_count": 13,
   "metadata": {},
   "outputs": [],
   "source": [
    "try:\n",
    "    Homebutton = WebDriverWait(driver, 15).until(EC.element_to_be_clickable((By.XPATH ,'/html/body/div[2]/div/div/div[2]/div/div/div/div[1]/div[1]/div[2]/section/main/div/div/div/div/div')))\n",
    "    Homebutton.click()\n",
    "\n",
    "    Homebutton1 = WebDriverWait(driver, 15).until(EC.element_to_be_clickable((By.XPATH ,'/html/body/div[3]/div[1]/div/div[2]/div/div/div/div/div[2]/div/div/div[3]/button[2]')))\n",
    "    Homebutton1.click()\n",
    "except:\n",
    "        print(\"\\nLogin failed for this account. Maybe it is banned!\\n\")\n",
    "sleep(2)\n",
    "\n",
    "driver.get('https://www.instagram.com/p/CwcSwH_sUuA')\n",
    "\n"
   ]
  },
  {
   "cell_type": "code",
   "execution_count": 44,
   "metadata": {},
   "outputs": [],
   "source": [
    "driver.get('https://www.instagram.com/p/CwcSwH_sUuA/')"
   ]
  },
  {
   "cell_type": "code",
   "execution_count": 29,
   "metadata": {},
   "outputs": [],
   "source": [
    "# def scrollComments():\n",
    "#     while True:\n",
    "#         try:\n",
    "\n",
    "#             # Get the height of the comment section\n",
    "#             height = driver.execute_script(\"return arguments[0].scrollHeight\", comment_section)\n",
    "#             # Scroll to the bottom of the comment section\n",
    "#             #print(height)\n",
    "#             driver.execute_script(\"arguments[0].scrollTo(0, arguments[0].scrollHeight)\", comment_section)\n",
    "#             sleep(1) # Wait for the page to load\n",
    "#             wait = WebDriverWait(driver, 5)\n",
    "#             # load_more_xpath = \"/html/body/div[2]/div/div/div[2]/div/div/div/div[1]/div[1]/div[2]/section/main/div[1]/div[1]/article/div/div[2]/div/div[2]/div[1]/ul/li/div/button\"\n",
    "#             #load_more_xpath = \"/html/body/div[2]/div/div/div[3]/div/div/div[1]/div/div[3]/div/div/div/div/div[2]/div/article/div/div[2]/div/div/div[2]/div[1]/ul/li/div/button\"\n",
    "#             load_more_xpath = \"/html/body/div[2]/div/div/div[2]/div/div/div/div[1]/div[1]/div[2]/section/main/div/div[1]/div/div[2]/div/div[2]/div\"\n",
    "#             #/html/body/div[2]/div/div/div[3]/div/div/div[1]/div/div[3]/div/div/div/div/div[2]/div/article/div/div[2]/div/div/div[2]/div[1]/ul/li/div/button\n",
    "#             load_more_button = wait.until(EC.element_to_be_clickable((By.XPATH, load_more_xpath)))\n",
    "#             load_more_button.click()\n",
    "            \n",
    "#         except:\n",
    "#             driver.execute_script(\"arguments[0].scrollTo(0, 0)\", comment_section)\n",
    "#             break\n",
    "\n",
    "import time\n",
    "\n",
    "def scrollComments():\n",
    "    previous_height = 0\n",
    "    same_height_count = 0\n",
    "    max_same_height_count = 5  # Maximum consecutive times the same height is allowed\n",
    "    \n",
    "    while True:\n",
    "        try:\n",
    "            # Get the height of the comment section\n",
    "            height = driver.execute_script(\"return arguments[0].scrollHeight\", comment_section)\n",
    "            \n",
    "            # Scroll to the bottom of the comment section\n",
    "            driver.execute_script(\"arguments[0].scrollTo(0, arguments[0].scrollHeight)\", comment_section)\n",
    "            \n",
    "            sleep(1)  # Wait for the page to load\n",
    "            \n",
    "            # Check if the height remains the same (no more comments to load)\n",
    "            if height == previous_height:\n",
    "                same_height_count += 1\n",
    "                if same_height_count >= max_same_height_count:\n",
    "                    break  # Same height encountered for 5 seconds, exit the loop\n",
    "            else:\n",
    "                same_height_count = 0  # Reset the count if a new height is encountered\n",
    "            \n",
    "            previous_height = height\n",
    "            \n",
    "        except:\n",
    "            driver.execute_script(\"arguments[0].scrollTo(0, 0)\", comment_section)\n",
    "            break\n",
    "\n"
   ]
  },
  {
   "cell_type": "code",
   "execution_count": 45,
   "metadata": {},
   "outputs": [],
   "source": [
    "try:\n",
    "    wait55 = WebDriverWait(driver, 10)\n",
    "    comment_section = wait55.until(EC.element_to_be_clickable((By.XPATH, '/html/body/div[2]/div/div/div[2]/div/div/div/div[1]/div[1]/div[2]/section/main/div/div[1]/div/div[2]/div/div[2]')))\n",
    "    scrollComments()\n",
    "    # comxpath = f\"/html/body/div[2]/div/div/div[2]/div/div/div/div[1]/div[1]/div[2]/section/main/div/div[1]/div/div[2]/div/div[2]/div/div/div[1]/div/div[2]\"\n",
    "    # comxpath = f'/html/body/div[2]/div/div/div[2]/div/div/div/div[1]/div[1]/div[2]/section/main/div/div[1]/div/div[2]/div/div[2]/div/div/div[2]/div/div/span'\n",
    "    #comments = wait55.until(EC.presence_of_all_elements_located((By.XPATH, comxpath)))\n",
    "except:\n",
    "    cross=WebDriverWait(driver, 15).until(EC.element_to_be_clickable((By.XPATH,\"/html/body/div[2]/div/div/div[3]/div/div/div[1]/div/div[2]/div\")))\n",
    "    cross.click()"
   ]
  },
  {
   "cell_type": "code",
   "execution_count": 46,
   "metadata": {},
   "outputs": [
    {
     "data": {
      "text/plain": [
       "70"
      ]
     },
     "execution_count": 46,
     "metadata": {},
     "output_type": "execute_result"
    }
   ],
   "source": [
    "comments = wait55.until(EC.presence_of_all_elements_located((By.XPATH, \"//div[contains(@class, 'x9f619') and contains(@class, 'xjbqb8w') and contains(@class, 'x78zum5') and contains(@class, 'x168nmei') and contains(@class, 'x13lgxp2') and contains(@class, 'x5pf9jr') and contains(@class, 'xo71vjh') and contains(@class, 'x1uhb9sk') and contains(@class, 'x1plvlek') and contains(@class, 'xryxfnj') and contains(@class, 'x1c4vz4f') and contains(@class, 'x2lah0s') and contains(@class, 'xdt5ytf') and contains(@class, 'xqjyukv') and contains(@class, 'x1cy8zhl') and contains(@class, 'x1oa3qoh') and contains(@class, 'x1nhvcw1')]//span[contains(@class, 'x1lliihq') and contains(@class, 'x1plvlek') and contains(@class, 'xryxfnj') and contains(@class, 'x1n2onr6') and contains(@class, 'x193iq5w') and contains(@class, 'xeuugli') and contains(@class, 'x1fj9vlw') and contains(@class, 'x13faqbe') and contains(@class, 'x1vvkbs') and contains(@class, 'x1s928wv') and contains(@class, 'xhkezso') and contains(@class, 'x1gmr53x') and contains(@class, 'x1cpjm7i') and contains(@class, 'x1fgarty') and contains(@class, 'x1943h6x') and contains(@class, 'x1i0vuye') and contains(@class, 'xvs91rp') and contains(@class, 'xo1l8bm') and contains(@class, 'x5n08af') and contains(@class, 'x10wh9bi') and contains(@class, 'x1wdrske') and contains(@class, 'x8viiok') and contains(@class, 'x18hxmgj') and @dir='auto']\")))\n",
    "len(comments)"
   ]
  },
  {
   "cell_type": "code",
   "execution_count": 48,
   "metadata": {},
   "outputs": [],
   "source": [
    "import pandas as pd\n",
    "#save all comment in csv\n",
    "com_text = [comment.text for comment in comments]\n",
    "pd.DataFrame(com_text).to_csv(\"comments1.csv\")"
   ]
  },
  {
   "cell_type": "code",
   "execution_count": null,
   "metadata": {},
   "outputs": [],
   "source": []
  }
 ],
 "metadata": {
  "kernelspec": {
   "display_name": "base",
   "language": "python",
   "name": "python3"
  },
  "language_info": {
   "codemirror_mode": {
    "name": "ipython",
    "version": 3
   },
   "file_extension": ".py",
   "mimetype": "text/x-python",
   "name": "python",
   "nbconvert_exporter": "python",
   "pygments_lexer": "ipython3",
   "version": "3.9.12"
  },
  "orig_nbformat": 4
 },
 "nbformat": 4,
 "nbformat_minor": 2
}
