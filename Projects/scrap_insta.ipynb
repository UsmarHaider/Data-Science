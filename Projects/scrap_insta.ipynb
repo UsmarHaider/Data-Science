{
 "cells": [
  {
   "cell_type": "code",
   "execution_count": 1,
   "metadata": {},
   "outputs": [
    {
     "name": "stdout",
     "output_type": "stream",
     "text": [
      "Requirement already satisfied: undetected-chromedriver in d:\\semester 5\\anaconda\\lib\\site-packages (3.5.3)\n",
      "Requirement already satisfied: selenium>=4.9.0 in d:\\semester 5\\anaconda\\lib\\site-packages (from undetected-chromedriver) (4.12.0)\n",
      "Requirement already satisfied: requests in d:\\semester 5\\anaconda\\lib\\site-packages (from undetected-chromedriver) (2.27.1)\n",
      "Requirement already satisfied: websockets in d:\\semester 5\\anaconda\\lib\\site-packages (from undetected-chromedriver) (11.0.3)\n",
      "Requirement already satisfied: trio~=0.17 in d:\\semester 5\\anaconda\\lib\\site-packages (from selenium>=4.9.0->undetected-chromedriver) (0.21.0)\n",
      "Requirement already satisfied: urllib3[socks]<3,>=1.26 in d:\\semester 5\\anaconda\\lib\\site-packages (from selenium>=4.9.0->undetected-chromedriver) (1.26.9)\n",
      "Requirement already satisfied: certifi>=2021.10.8 in d:\\semester 5\\anaconda\\lib\\site-packages (from selenium>=4.9.0->undetected-chromedriver) (2021.10.8)\n",
      "Requirement already satisfied: trio-websocket~=0.9 in d:\\semester 5\\anaconda\\lib\\site-packages (from selenium>=4.9.0->undetected-chromedriver) (0.9.2)\n",
      "Requirement already satisfied: sortedcontainers in d:\\semester 5\\anaconda\\lib\\site-packages (from trio~=0.17->selenium>=4.9.0->undetected-chromedriver) (2.4.0)\n",
      "Requirement already satisfied: idna in d:\\semester 5\\anaconda\\lib\\site-packages (from trio~=0.17->selenium>=4.9.0->undetected-chromedriver) (3.3)\n",
      "Requirement already satisfied: async-generator>=1.9 in d:\\semester 5\\anaconda\\lib\\site-packages (from trio~=0.17->selenium>=4.9.0->undetected-chromedriver) (1.10)\n",
      "Requirement already satisfied: sniffio in d:\\semester 5\\anaconda\\lib\\site-packages (from trio~=0.17->selenium>=4.9.0->undetected-chromedriver) (1.2.0)\n",
      "Requirement already satisfied: attrs>=19.2.0 in d:\\semester 5\\anaconda\\lib\\site-packages (from trio~=0.17->selenium>=4.9.0->undetected-chromedriver) (21.4.0)\n",
      "Requirement already satisfied: outcome in d:\\semester 5\\anaconda\\lib\\site-packages (from trio~=0.17->selenium>=4.9.0->undetected-chromedriver) (1.2.0)\n",
      "Requirement already satisfied: cffi>=1.14 in d:\\semester 5\\anaconda\\lib\\site-packages (from trio~=0.17->selenium>=4.9.0->undetected-chromedriver) (1.15.0)\n",
      "Requirement already satisfied: pycparser in d:\\semester 5\\anaconda\\lib\\site-packages (from cffi>=1.14->trio~=0.17->selenium>=4.9.0->undetected-chromedriver) (2.21)\n",
      "Requirement already satisfied: wsproto>=0.14 in d:\\semester 5\\anaconda\\lib\\site-packages (from trio-websocket~=0.9->selenium>=4.9.0->undetected-chromedriver) (1.2.0)\n",
      "Requirement already satisfied: PySocks!=1.5.7,<2.0,>=1.5.6 in d:\\semester 5\\anaconda\\lib\\site-packages (from urllib3[socks]<3,>=1.26->selenium>=4.9.0->undetected-chromedriver) (1.7.1)\n",
      "Requirement already satisfied: h11<1,>=0.9.0 in d:\\semester 5\\anaconda\\lib\\site-packages (from wsproto>=0.14->trio-websocket~=0.9->selenium>=4.9.0->undetected-chromedriver) (0.13.0)\n",
      "Requirement already satisfied: charset-normalizer~=2.0.0 in d:\\semester 5\\anaconda\\lib\\site-packages (from requests->undetected-chromedriver) (2.0.4)\n"
     ]
    }
   ],
   "source": [
    "!pip install undetected-chromedriver"
   ]
  },
  {
   "cell_type": "code",
   "execution_count": 2,
   "metadata": {},
   "outputs": [
    {
     "name": "stdout",
     "output_type": "stream",
     "text": [
      "Requirement already satisfied: openpyxl in d:\\semester 5\\anaconda\\lib\\site-packages (3.0.9)\n",
      "Requirement already satisfied: et-xmlfile in d:\\semester 5\\anaconda\\lib\\site-packages (from openpyxl) (1.1.0)\n"
     ]
    }
   ],
   "source": [
    "!pip install openpyxl\n"
   ]
  },
  {
   "cell_type": "code",
   "execution_count": 3,
   "metadata": {},
   "outputs": [
    {
     "name": "stdout",
     "output_type": "stream",
     "text": [
      "Requirement already satisfied: instaloader in d:\\semester 5\\anaconda\\lib\\site-packages (4.10)\n",
      "Requirement already satisfied: requests>=2.4 in d:\\semester 5\\anaconda\\lib\\site-packages (from instaloader) (2.27.1)\n",
      "Requirement already satisfied: urllib3<1.27,>=1.21.1 in d:\\semester 5\\anaconda\\lib\\site-packages (from requests>=2.4->instaloader) (1.26.9)\n",
      "Requirement already satisfied: charset-normalizer~=2.0.0 in d:\\semester 5\\anaconda\\lib\\site-packages (from requests>=2.4->instaloader) (2.0.4)\n",
      "Requirement already satisfied: certifi>=2017.4.17 in d:\\semester 5\\anaconda\\lib\\site-packages (from requests>=2.4->instaloader) (2021.10.8)\n",
      "Requirement already satisfied: idna<4,>=2.5 in d:\\semester 5\\anaconda\\lib\\site-packages (from requests>=2.4->instaloader) (3.3)\n"
     ]
    }
   ],
   "source": [
    "!pip install instaloader"
   ]
  },
  {
   "cell_type": "code",
   "execution_count": 4,
   "metadata": {},
   "outputs": [
    {
     "name": "stderr",
     "output_type": "stream",
     "text": [
      "d:\\SEMESTER 5\\anaconda\\lib\\site-packages\\win_unicode_console\\__init__.py:31: RuntimeWarning: sys.stdin.encoding == 'utf-8', whereas sys.stdout.encoding == 'UTF-8', readline hook consumer may assume they are the same\n",
      "  readline_hook.enable(use_pyreadline=use_pyreadline)\n"
     ]
    }
   ],
   "source": [
    "import instaloader\n",
    "from time import sleep\n",
    "import undetected_chromedriver as uc\n",
    "from selenium.webdriver.chrome.options import Options\n",
    "import undetected_chromedriver as uc\n",
    "from selenium.webdriver.common.by import By\n",
    "from selenium.webdriver.support import expected_conditions as EC\n",
    "from selenium.webdriver.support.ui import WebDriverWait\n",
    "from time import sleep\n",
    "from selenium.common.exceptions import StaleElementReferenceException\n",
    "import openpyxl\n",
    "from selenium.common.exceptions import NoSuchElementException\n",
    "from selenium import webdriver\n",
    "from selenium.webdriver.common.keys import Keys\n",
    "from selenium.webdriver.common.action_chains import ActionChains\n",
    "import openpyxl"
   ]
  },
  {
   "cell_type": "code",
   "execution_count": null,
   "metadata": {},
   "outputs": [],
   "source": []
  },
  {
   "cell_type": "code",
   "execution_count": 39,
   "metadata": {},
   "outputs": [
    {
     "name": "stdout",
     "output_type": "stream",
     "text": [
      "\n",
      "Login failed for this account. Maybe it is banned!\n",
      "\n"
     ]
    }
   ],
   "source": [
    "options = uc.ChromeOptions()\n",
    "driver = uc.Chrome(options=options)\n",
    "driver.maximize_window()\n",
    "driver.get('https://www.instagram.com/')\n",
    "\n",
    "username_input = WebDriverWait(driver, 30).until(EC.element_to_be_clickable((By.CSS_SELECTOR,\"input[name='username']\")))\n",
    "password_input = WebDriverWait(driver, 30).until(EC.element_to_be_clickable((By.CSS_SELECTOR,\"input[name='password']\")))\n",
    "\n",
    "username_input.send_keys('usmarsays')\n",
    "password_input.send_keys('usmarhaiderl201095')\n",
    "\n",
    "login_button = driver.find_element(By.XPATH,\"//button[@type='submit']\")\n",
    "login_button.click()\n",
    "try:\n",
    "    Homebutton = WebDriverWait(driver, 15).until(EC.element_to_be_clickable((By.XPATH ,'/html/body/div[2]/div/div/div[2]/div/div/div/div[1]/div[1]/div[2]/section/main/div/div/div/div/div')))\n",
    "    Homebutton.click()\n",
    "    Homebutton1 = WebDriverWait(driver, 15).until(EC.element_to_be_clickable((By.XPATH ,'/html/body/div[3]/div[1]/div/div[2]/div/div/div/div/div[2]/div/div/div[3]/button[2]')))\n",
    "    Homebutton1.click()\n",
    "except:\n",
    "        print(\"\\nLogin failed for this account. Maybe it is banned!\\n\")\n",
    "sleep(2)\n",
    "\n",
    "driver.get('https://www.instagram.com/p/CwcSwH_sUuA')\n",
    "\n"
   ]
  },
  {
   "cell_type": "code",
   "execution_count": 25,
   "metadata": {},
   "outputs": [],
   "source": []
  },
  {
   "cell_type": "code",
   "execution_count": 44,
   "metadata": {},
   "outputs": [],
   "source": [
    "def scrollComments():\n",
    "    while True:\n",
    "        try:\n",
    "\n",
    "            # Get the height of the comment section\n",
    "            height = driver.execute_script(\"return arguments[0].scrollHeight\", comment_section)\n",
    "            # Scroll to the bottom of the comment section\n",
    "            #print(height)\n",
    "            driver.execute_script(\"arguments[0].scrollTo(0, arguments[0].scrollHeight)\", comment_section)\n",
    "            sleep(1) # Wait for the page to load\n",
    "            wait = WebDriverWait(driver, 5)\n",
    "            # load_more_xpath = \"/html/body/div[2]/div/div/div[2]/div/div/div/div[1]/div[1]/div[2]/section/main/div[1]/div[1]/article/div/div[2]/div/div[2]/div[1]/ul/li/div/button\"\n",
    "            #load_more_xpath = \"/html/body/div[2]/div/div/div[3]/div/div/div[1]/div/div[3]/div/div/div/div/div[2]/div/article/div/div[2]/div/div/div[2]/div[1]/ul/li/div/button\"\n",
    "            load_more_xpath = \"/html/body/div[2]/div/div/div[2]/div/div/div/div[1]/div[1]/div[2]/section/main/div/div[1]/div/div[2]/div/div[2]/div\"\n",
    "            #/html/body/div[2]/div/div/div[3]/div/div/div[1]/div/div[3]/div/div/div/div/div[2]/div/article/div/div[2]/div/div/div[2]/div[1]/ul/li/div/button\n",
    "            load_more_button = wait.until(EC.element_to_be_clickable((By.XPATH, load_more_xpath)))\n",
    "            load_more_button.click()\n",
    "            \n",
    "        except:\n",
    "            driver.execute_script(\"arguments[0].scrollTo(0, 0)\", comment_section)\n",
    "            break\n"
   ]
  },
  {
   "cell_type": "code",
   "execution_count": 45,
   "metadata": {},
   "outputs": [
    {
     "ename": "StaleElementReferenceException",
     "evalue": "Message: stale element reference: stale element not found\n  (Session info: chrome=116.0.5845.141); For documentation on this error, please visit: https://www.selenium.dev/documentation/webdriver/troubleshooting/errors#stale-element-reference-exception\nStacktrace:\n\tGetHandleVerifier [0x009D37C3+48947]\n\t(No symbol) [0x00968551]\n\t(No symbol) [0x0086C92D]\n\t(No symbol) [0x00875D41]\n\t(No symbol) [0x00870056]\n\t(No symbol) [0x008700FB]\n\t(No symbol) [0x0086F22F]\n\t(No symbol) [0x00871292]\n\t(No symbol) [0x008C7DFB]\n\t(No symbol) [0x008B508C]\n\t(No symbol) [0x008C75DA]\n\t(No symbol) [0x008B4E86]\n\t(No symbol) [0x008916C7]\n\t(No symbol) [0x0089284D]\n\tGetHandleVerifier [0x00C1FDF9+2458985]\n\tGetHandleVerifier [0x00C6744F+2751423]\n\tGetHandleVerifier [0x00C61361+2726609]\n\tGetHandleVerifier [0x00A50680+560624]\n\t(No symbol) [0x0097238C]\n\t(No symbol) [0x0096E268]\n\t(No symbol) [0x0096E392]\n\t(No symbol) [0x009610B7]\n\tBaseThreadInitThunk [0x771A7D59+25]\n\tRtlInitializeExceptionChain [0x77C4B79B+107]\n\tRtlClearBits [0x77C4B71F+191]\n",
     "output_type": "error",
     "traceback": [
      "\u001b[1;31m---------------------------------------------------------------------------\u001b[0m",
      "\u001b[1;31mStaleElementReferenceException\u001b[0m            Traceback (most recent call last)",
      "\u001b[1;32mc:\\Users\\usmar\\OneDrive\\Desktop\\taimour\\fiverr\\scrap_insta.ipynb Cell 9\u001b[0m in \u001b[0;36mscrollComments\u001b[1;34m()\u001b[0m\n\u001b[0;32m      <a href='vscode-notebook-cell:/c%3A/Users/usmar/OneDrive/Desktop/taimour/fiverr/scrap_insta.ipynb#X25sZmlsZQ%3D%3D?line=2'>3</a>\u001b[0m \u001b[39mtry\u001b[39;00m:\n\u001b[0;32m      <a href='vscode-notebook-cell:/c%3A/Users/usmar/OneDrive/Desktop/taimour/fiverr/scrap_insta.ipynb#X25sZmlsZQ%3D%3D?line=3'>4</a>\u001b[0m \n\u001b[0;32m      <a href='vscode-notebook-cell:/c%3A/Users/usmar/OneDrive/Desktop/taimour/fiverr/scrap_insta.ipynb#X25sZmlsZQ%3D%3D?line=4'>5</a>\u001b[0m     \u001b[39m# Get the height of the comment section\u001b[39;00m\n\u001b[1;32m----> <a href='vscode-notebook-cell:/c%3A/Users/usmar/OneDrive/Desktop/taimour/fiverr/scrap_insta.ipynb#X25sZmlsZQ%3D%3D?line=5'>6</a>\u001b[0m     height \u001b[39m=\u001b[39m driver\u001b[39m.\u001b[39;49mexecute_script(\u001b[39m\"\u001b[39;49m\u001b[39mreturn arguments[0].scrollHeight\u001b[39;49m\u001b[39m\"\u001b[39;49m, comment_section)\n\u001b[0;32m      <a href='vscode-notebook-cell:/c%3A/Users/usmar/OneDrive/Desktop/taimour/fiverr/scrap_insta.ipynb#X25sZmlsZQ%3D%3D?line=6'>7</a>\u001b[0m     \u001b[39m# Scroll to the bottom of the comment section\u001b[39;00m\n\u001b[0;32m      <a href='vscode-notebook-cell:/c%3A/Users/usmar/OneDrive/Desktop/taimour/fiverr/scrap_insta.ipynb#X25sZmlsZQ%3D%3D?line=7'>8</a>\u001b[0m     \u001b[39m#print(height)\u001b[39;00m\n",
      "File \u001b[1;32md:\\SEMESTER 5\\anaconda\\lib\\site-packages\\selenium\\webdriver\\remote\\webdriver.py:404\u001b[0m, in \u001b[0;36mWebDriver.execute_script\u001b[1;34m(self, script, *args)\u001b[0m\n\u001b[0;32m    402\u001b[0m command \u001b[39m=\u001b[39m Command\u001b[39m.\u001b[39mW3C_EXECUTE_SCRIPT\n\u001b[1;32m--> 404\u001b[0m \u001b[39mreturn\u001b[39;00m \u001b[39mself\u001b[39;49m\u001b[39m.\u001b[39;49mexecute(command, {\u001b[39m\"\u001b[39;49m\u001b[39mscript\u001b[39;49m\u001b[39m\"\u001b[39;49m: script, \u001b[39m\"\u001b[39;49m\u001b[39margs\u001b[39;49m\u001b[39m\"\u001b[39;49m: converted_args})[\u001b[39m\"\u001b[39m\u001b[39mvalue\u001b[39m\u001b[39m\"\u001b[39m]\n",
      "File \u001b[1;32md:\\SEMESTER 5\\anaconda\\lib\\site-packages\\selenium\\webdriver\\remote\\webdriver.py:344\u001b[0m, in \u001b[0;36mWebDriver.execute\u001b[1;34m(self, driver_command, params)\u001b[0m\n\u001b[0;32m    343\u001b[0m \u001b[39mif\u001b[39;00m response:\n\u001b[1;32m--> 344\u001b[0m     \u001b[39mself\u001b[39;49m\u001b[39m.\u001b[39;49merror_handler\u001b[39m.\u001b[39;49mcheck_response(response)\n\u001b[0;32m    345\u001b[0m     response[\u001b[39m\"\u001b[39m\u001b[39mvalue\u001b[39m\u001b[39m\"\u001b[39m] \u001b[39m=\u001b[39m \u001b[39mself\u001b[39m\u001b[39m.\u001b[39m_unwrap_value(response\u001b[39m.\u001b[39mget(\u001b[39m\"\u001b[39m\u001b[39mvalue\u001b[39m\u001b[39m\"\u001b[39m, \u001b[39mNone\u001b[39;00m))\n",
      "File \u001b[1;32md:\\SEMESTER 5\\anaconda\\lib\\site-packages\\selenium\\webdriver\\remote\\errorhandler.py:229\u001b[0m, in \u001b[0;36mErrorHandler.check_response\u001b[1;34m(self, response)\u001b[0m\n\u001b[0;32m    228\u001b[0m     \u001b[39mraise\u001b[39;00m exception_class(message, screen, stacktrace, alert_text)  \u001b[39m# type: ignore[call-arg]  # mypy is not smart enough here\u001b[39;00m\n\u001b[1;32m--> 229\u001b[0m \u001b[39mraise\u001b[39;00m exception_class(message, screen, stacktrace)\n",
      "\u001b[1;31mStaleElementReferenceException\u001b[0m: Message: stale element reference: stale element not found\n  (Session info: chrome=116.0.5845.141); For documentation on this error, please visit: https://www.selenium.dev/documentation/webdriver/troubleshooting/errors#stale-element-reference-exception\nStacktrace:\n\tGetHandleVerifier [0x009D37C3+48947]\n\t(No symbol) [0x00968551]\n\t(No symbol) [0x0086C92D]\n\t(No symbol) [0x00875D41]\n\t(No symbol) [0x00870056]\n\t(No symbol) [0x008700FB]\n\t(No symbol) [0x0086F22F]\n\t(No symbol) [0x00871292]\n\t(No symbol) [0x008C7DFB]\n\t(No symbol) [0x008B508C]\n\t(No symbol) [0x008C75DA]\n\t(No symbol) [0x008B4E86]\n\t(No symbol) [0x008916C7]\n\t(No symbol) [0x0089284D]\n\tGetHandleVerifier [0x00C1FDF9+2458985]\n\tGetHandleVerifier [0x00C6744F+2751423]\n\tGetHandleVerifier [0x00C61361+2726609]\n\tGetHandleVerifier [0x00A50680+560624]\n\t(No symbol) [0x0097238C]\n\t(No symbol) [0x0096E268]\n\t(No symbol) [0x0096E392]\n\t(No symbol) [0x009610B7]\n\tBaseThreadInitThunk [0x771A7D59+25]\n\tRtlInitializeExceptionChain [0x77C4B79B+107]\n\tRtlClearBits [0x77C4B71F+191]\n",
      "\nDuring handling of the above exception, another exception occurred:\n",
      "\u001b[1;31mStaleElementReferenceException\u001b[0m            Traceback (most recent call last)",
      "\u001b[1;32mc:\\Users\\usmar\\OneDrive\\Desktop\\taimour\\fiverr\\scrap_insta.ipynb Cell 9\u001b[0m in \u001b[0;36m<cell line: 1>\u001b[1;34m()\u001b[0m\n\u001b[1;32m----> <a href='vscode-notebook-cell:/c%3A/Users/usmar/OneDrive/Desktop/taimour/fiverr/scrap_insta.ipynb#X25sZmlsZQ%3D%3D?line=0'>1</a>\u001b[0m scrollComments()\n",
      "\u001b[1;32mc:\\Users\\usmar\\OneDrive\\Desktop\\taimour\\fiverr\\scrap_insta.ipynb Cell 9\u001b[0m in \u001b[0;36mscrollComments\u001b[1;34m()\u001b[0m\n\u001b[0;32m     <a href='vscode-notebook-cell:/c%3A/Users/usmar/OneDrive/Desktop/taimour/fiverr/scrap_insta.ipynb#X25sZmlsZQ%3D%3D?line=16'>17</a>\u001b[0m     load_more_button\u001b[39m.\u001b[39mclick()\n\u001b[0;32m     <a href='vscode-notebook-cell:/c%3A/Users/usmar/OneDrive/Desktop/taimour/fiverr/scrap_insta.ipynb#X25sZmlsZQ%3D%3D?line=18'>19</a>\u001b[0m \u001b[39mexcept\u001b[39;00m:\n\u001b[1;32m---> <a href='vscode-notebook-cell:/c%3A/Users/usmar/OneDrive/Desktop/taimour/fiverr/scrap_insta.ipynb#X25sZmlsZQ%3D%3D?line=19'>20</a>\u001b[0m     driver\u001b[39m.\u001b[39;49mexecute_script(\u001b[39m\"\u001b[39;49m\u001b[39marguments[0].scrollTo(0, 0)\u001b[39;49m\u001b[39m\"\u001b[39;49m, comment_section)\n\u001b[0;32m     <a href='vscode-notebook-cell:/c%3A/Users/usmar/OneDrive/Desktop/taimour/fiverr/scrap_insta.ipynb#X25sZmlsZQ%3D%3D?line=20'>21</a>\u001b[0m     \u001b[39mbreak\u001b[39;00m\n",
      "File \u001b[1;32md:\\SEMESTER 5\\anaconda\\lib\\site-packages\\selenium\\webdriver\\remote\\webdriver.py:404\u001b[0m, in \u001b[0;36mWebDriver.execute_script\u001b[1;34m(self, script, *args)\u001b[0m\n\u001b[0;32m    401\u001b[0m converted_args \u001b[39m=\u001b[39m \u001b[39mlist\u001b[39m(args)\n\u001b[0;32m    402\u001b[0m command \u001b[39m=\u001b[39m Command\u001b[39m.\u001b[39mW3C_EXECUTE_SCRIPT\n\u001b[1;32m--> 404\u001b[0m \u001b[39mreturn\u001b[39;00m \u001b[39mself\u001b[39;49m\u001b[39m.\u001b[39;49mexecute(command, {\u001b[39m\"\u001b[39;49m\u001b[39mscript\u001b[39;49m\u001b[39m\"\u001b[39;49m: script, \u001b[39m\"\u001b[39;49m\u001b[39margs\u001b[39;49m\u001b[39m\"\u001b[39;49m: converted_args})[\u001b[39m\"\u001b[39m\u001b[39mvalue\u001b[39m\u001b[39m\"\u001b[39m]\n",
      "File \u001b[1;32md:\\SEMESTER 5\\anaconda\\lib\\site-packages\\selenium\\webdriver\\remote\\webdriver.py:344\u001b[0m, in \u001b[0;36mWebDriver.execute\u001b[1;34m(self, driver_command, params)\u001b[0m\n\u001b[0;32m    342\u001b[0m response \u001b[39m=\u001b[39m \u001b[39mself\u001b[39m\u001b[39m.\u001b[39mcommand_executor\u001b[39m.\u001b[39mexecute(driver_command, params)\n\u001b[0;32m    343\u001b[0m \u001b[39mif\u001b[39;00m response:\n\u001b[1;32m--> 344\u001b[0m     \u001b[39mself\u001b[39;49m\u001b[39m.\u001b[39;49merror_handler\u001b[39m.\u001b[39;49mcheck_response(response)\n\u001b[0;32m    345\u001b[0m     response[\u001b[39m\"\u001b[39m\u001b[39mvalue\u001b[39m\u001b[39m\"\u001b[39m] \u001b[39m=\u001b[39m \u001b[39mself\u001b[39m\u001b[39m.\u001b[39m_unwrap_value(response\u001b[39m.\u001b[39mget(\u001b[39m\"\u001b[39m\u001b[39mvalue\u001b[39m\u001b[39m\"\u001b[39m, \u001b[39mNone\u001b[39;00m))\n\u001b[0;32m    346\u001b[0m     \u001b[39mreturn\u001b[39;00m response\n",
      "File \u001b[1;32md:\\SEMESTER 5\\anaconda\\lib\\site-packages\\selenium\\webdriver\\remote\\errorhandler.py:229\u001b[0m, in \u001b[0;36mErrorHandler.check_response\u001b[1;34m(self, response)\u001b[0m\n\u001b[0;32m    227\u001b[0m         alert_text \u001b[39m=\u001b[39m value[\u001b[39m\"\u001b[39m\u001b[39malert\u001b[39m\u001b[39m\"\u001b[39m]\u001b[39m.\u001b[39mget(\u001b[39m\"\u001b[39m\u001b[39mtext\u001b[39m\u001b[39m\"\u001b[39m)\n\u001b[0;32m    228\u001b[0m     \u001b[39mraise\u001b[39;00m exception_class(message, screen, stacktrace, alert_text)  \u001b[39m# type: ignore[call-arg]  # mypy is not smart enough here\u001b[39;00m\n\u001b[1;32m--> 229\u001b[0m \u001b[39mraise\u001b[39;00m exception_class(message, screen, stacktrace)\n",
      "\u001b[1;31mStaleElementReferenceException\u001b[0m: Message: stale element reference: stale element not found\n  (Session info: chrome=116.0.5845.141); For documentation on this error, please visit: https://www.selenium.dev/documentation/webdriver/troubleshooting/errors#stale-element-reference-exception\nStacktrace:\n\tGetHandleVerifier [0x009D37C3+48947]\n\t(No symbol) [0x00968551]\n\t(No symbol) [0x0086C92D]\n\t(No symbol) [0x00875D41]\n\t(No symbol) [0x00870056]\n\t(No symbol) [0x008700FB]\n\t(No symbol) [0x0086F22F]\n\t(No symbol) [0x00871292]\n\t(No symbol) [0x008C7DFB]\n\t(No symbol) [0x008B508C]\n\t(No symbol) [0x008C75DA]\n\t(No symbol) [0x008B4E86]\n\t(No symbol) [0x008916C7]\n\t(No symbol) [0x0089284D]\n\tGetHandleVerifier [0x00C1FDF9+2458985]\n\tGetHandleVerifier [0x00C6744F+2751423]\n\tGetHandleVerifier [0x00C61361+2726609]\n\tGetHandleVerifier [0x00A50680+560624]\n\t(No symbol) [0x0097238C]\n\t(No symbol) [0x0096E268]\n\t(No symbol) [0x0096E392]\n\t(No symbol) [0x009610B7]\n\tBaseThreadInitThunk [0x771A7D59+25]\n\tRtlInitializeExceptionChain [0x77C4B79B+107]\n\tRtlClearBits [0x77C4B71F+191]\n"
     ]
    }
   ],
   "source": [
    "scrollComments()"
   ]
  },
  {
   "cell_type": "code",
   "execution_count": 37,
   "metadata": {},
   "outputs": [
    {
     "ename": "NoSuchElementException",
     "evalue": "Message: no such element: Unable to locate element: {\"method\":\"tag name\",\"selector\":\"h3\"}\n  (Session info: chrome=116.0.5845.141); For documentation on this error, please visit: https://www.selenium.dev/documentation/webdriver/troubleshooting/errors#no-such-element-exception\nStacktrace:\n\tGetHandleVerifier [0x009D37C3+48947]\n\t(No symbol) [0x00968551]\n\t(No symbol) [0x0086C92D]\n\t(No symbol) [0x00899E38]\n\t(No symbol) [0x00899EFB]\n\t(No symbol) [0x00892F61]\n\t(No symbol) [0x008B50D4]\n\t(No symbol) [0x00892EB6]\n\t(No symbol) [0x008B53E4]\n\t(No symbol) [0x008C75DA]\n\t(No symbol) [0x008B4E86]\n\t(No symbol) [0x008916C7]\n\t(No symbol) [0x0089284D]\n\tGetHandleVerifier [0x00C1FDF9+2458985]\n\tGetHandleVerifier [0x00C6744F+2751423]\n\tGetHandleVerifier [0x00C61361+2726609]\n\tGetHandleVerifier [0x00A50680+560624]\n\t(No symbol) [0x0097238C]\n\t(No symbol) [0x0096E268]\n\t(No symbol) [0x0096E392]\n\t(No symbol) [0x009610B7]\n\tBaseThreadInitThunk [0x771A7D59+25]\n\tRtlInitializeExceptionChain [0x77C4B79B+107]\n\tRtlClearBits [0x77C4B71F+191]\n",
     "output_type": "error",
     "traceback": [
      "\u001b[1;31m---------------------------------------------------------------------------\u001b[0m",
      "\u001b[1;31mNoSuchElementException\u001b[0m                    Traceback (most recent call last)",
      "\u001b[1;32mc:\\Users\\usmar\\OneDrive\\Desktop\\taimour\\fiverr\\scrap_insta.ipynb Cell 9\u001b[0m in \u001b[0;36m<cell line: 15>\u001b[1;34m()\u001b[0m\n\u001b[0;32m     <a href='vscode-notebook-cell:/c%3A/Users/usmar/OneDrive/Desktop/taimour/fiverr/scrap_insta.ipynb#X14sZmlsZQ%3D%3D?line=15'>16</a>\u001b[0m i\u001b[39m+\u001b[39m\u001b[39m=\u001b[39m\u001b[39m1\u001b[39m\n\u001b[0;32m     <a href='vscode-notebook-cell:/c%3A/Users/usmar/OneDrive/Desktop/taimour/fiverr/scrap_insta.ipynb#X14sZmlsZQ%3D%3D?line=16'>17</a>\u001b[0m com\u001b[39m=\u001b[39m comment\u001b[39m.\u001b[39mfind_element(By\u001b[39m.\u001b[39mTAG_NAME,\u001b[39m\"\u001b[39m\u001b[39mspan\u001b[39m\u001b[39m\"\u001b[39m)\u001b[39m.\u001b[39mtext\n\u001b[1;32m---> <a href='vscode-notebook-cell:/c%3A/Users/usmar/OneDrive/Desktop/taimour/fiverr/scrap_insta.ipynb#X14sZmlsZQ%3D%3D?line=17'>18</a>\u001b[0m username \u001b[39m=\u001b[39m comment\u001b[39m.\u001b[39;49mfind_element(By\u001b[39m.\u001b[39;49mTAG_NAME,\u001b[39m\"\u001b[39;49m\u001b[39mh3\u001b[39;49m\u001b[39m\"\u001b[39;49m)\u001b[39m.\u001b[39mtext\n\u001b[0;32m     <a href='vscode-notebook-cell:/c%3A/Users/usmar/OneDrive/Desktop/taimour/fiverr/scrap_insta.ipynb#X14sZmlsZQ%3D%3D?line=18'>19</a>\u001b[0m \u001b[39mprint\u001b[39m(\u001b[39m\"\u001b[39m\u001b[39m#\u001b[39m\u001b[39m\"\u001b[39m,i,\u001b[39m\"\u001b[39m\u001b[39musername: \u001b[39m\u001b[39m\"\u001b[39m,username,\u001b[39m\"\u001b[39m\u001b[39m Comment: \u001b[39m\u001b[39m\"\u001b[39m,com)\n",
      "File \u001b[1;32md:\\SEMESTER 5\\anaconda\\lib\\site-packages\\selenium\\webdriver\\remote\\webelement.py:416\u001b[0m, in \u001b[0;36mWebElement.find_element\u001b[1;34m(self, by, value)\u001b[0m\n\u001b[0;32m    413\u001b[0m     by \u001b[39m=\u001b[39m By\u001b[39m.\u001b[39mCSS_SELECTOR\n\u001b[0;32m    414\u001b[0m     value \u001b[39m=\u001b[39m \u001b[39mf\u001b[39m\u001b[39m'\u001b[39m\u001b[39m[name=\u001b[39m\u001b[39m\"\u001b[39m\u001b[39m{\u001b[39;00mvalue\u001b[39m}\u001b[39;00m\u001b[39m\"\u001b[39m\u001b[39m]\u001b[39m\u001b[39m'\u001b[39m\n\u001b[1;32m--> 416\u001b[0m \u001b[39mreturn\u001b[39;00m \u001b[39mself\u001b[39;49m\u001b[39m.\u001b[39;49m_execute(Command\u001b[39m.\u001b[39;49mFIND_CHILD_ELEMENT, {\u001b[39m\"\u001b[39;49m\u001b[39musing\u001b[39;49m\u001b[39m\"\u001b[39;49m: by, \u001b[39m\"\u001b[39;49m\u001b[39mvalue\u001b[39;49m\u001b[39m\"\u001b[39;49m: value})[\u001b[39m\"\u001b[39m\u001b[39mvalue\u001b[39m\u001b[39m\"\u001b[39m]\n",
      "File \u001b[1;32md:\\SEMESTER 5\\anaconda\\lib\\site-packages\\selenium\\webdriver\\remote\\webelement.py:394\u001b[0m, in \u001b[0;36mWebElement._execute\u001b[1;34m(self, command, params)\u001b[0m\n\u001b[0;32m    392\u001b[0m     params \u001b[39m=\u001b[39m {}\n\u001b[0;32m    393\u001b[0m params[\u001b[39m\"\u001b[39m\u001b[39mid\u001b[39m\u001b[39m\"\u001b[39m] \u001b[39m=\u001b[39m \u001b[39mself\u001b[39m\u001b[39m.\u001b[39m_id\n\u001b[1;32m--> 394\u001b[0m \u001b[39mreturn\u001b[39;00m \u001b[39mself\u001b[39;49m\u001b[39m.\u001b[39;49m_parent\u001b[39m.\u001b[39;49mexecute(command, params)\n",
      "File \u001b[1;32md:\\SEMESTER 5\\anaconda\\lib\\site-packages\\selenium\\webdriver\\remote\\webdriver.py:344\u001b[0m, in \u001b[0;36mWebDriver.execute\u001b[1;34m(self, driver_command, params)\u001b[0m\n\u001b[0;32m    342\u001b[0m response \u001b[39m=\u001b[39m \u001b[39mself\u001b[39m\u001b[39m.\u001b[39mcommand_executor\u001b[39m.\u001b[39mexecute(driver_command, params)\n\u001b[0;32m    343\u001b[0m \u001b[39mif\u001b[39;00m response:\n\u001b[1;32m--> 344\u001b[0m     \u001b[39mself\u001b[39;49m\u001b[39m.\u001b[39;49merror_handler\u001b[39m.\u001b[39;49mcheck_response(response)\n\u001b[0;32m    345\u001b[0m     response[\u001b[39m\"\u001b[39m\u001b[39mvalue\u001b[39m\u001b[39m\"\u001b[39m] \u001b[39m=\u001b[39m \u001b[39mself\u001b[39m\u001b[39m.\u001b[39m_unwrap_value(response\u001b[39m.\u001b[39mget(\u001b[39m\"\u001b[39m\u001b[39mvalue\u001b[39m\u001b[39m\"\u001b[39m, \u001b[39mNone\u001b[39;00m))\n\u001b[0;32m    346\u001b[0m     \u001b[39mreturn\u001b[39;00m response\n",
      "File \u001b[1;32md:\\SEMESTER 5\\anaconda\\lib\\site-packages\\selenium\\webdriver\\remote\\errorhandler.py:229\u001b[0m, in \u001b[0;36mErrorHandler.check_response\u001b[1;34m(self, response)\u001b[0m\n\u001b[0;32m    227\u001b[0m         alert_text \u001b[39m=\u001b[39m value[\u001b[39m\"\u001b[39m\u001b[39malert\u001b[39m\u001b[39m\"\u001b[39m]\u001b[39m.\u001b[39mget(\u001b[39m\"\u001b[39m\u001b[39mtext\u001b[39m\u001b[39m\"\u001b[39m)\n\u001b[0;32m    228\u001b[0m     \u001b[39mraise\u001b[39;00m exception_class(message, screen, stacktrace, alert_text)  \u001b[39m# type: ignore[call-arg]  # mypy is not smart enough here\u001b[39;00m\n\u001b[1;32m--> 229\u001b[0m \u001b[39mraise\u001b[39;00m exception_class(message, screen, stacktrace)\n",
      "\u001b[1;31mNoSuchElementException\u001b[0m: Message: no such element: Unable to locate element: {\"method\":\"tag name\",\"selector\":\"h3\"}\n  (Session info: chrome=116.0.5845.141); For documentation on this error, please visit: https://www.selenium.dev/documentation/webdriver/troubleshooting/errors#no-such-element-exception\nStacktrace:\n\tGetHandleVerifier [0x009D37C3+48947]\n\t(No symbol) [0x00968551]\n\t(No symbol) [0x0086C92D]\n\t(No symbol) [0x00899E38]\n\t(No symbol) [0x00899EFB]\n\t(No symbol) [0x00892F61]\n\t(No symbol) [0x008B50D4]\n\t(No symbol) [0x00892EB6]\n\t(No symbol) [0x008B53E4]\n\t(No symbol) [0x008C75DA]\n\t(No symbol) [0x008B4E86]\n\t(No symbol) [0x008916C7]\n\t(No symbol) [0x0089284D]\n\tGetHandleVerifier [0x00C1FDF9+2458985]\n\tGetHandleVerifier [0x00C6744F+2751423]\n\tGetHandleVerifier [0x00C61361+2726609]\n\tGetHandleVerifier [0x00A50680+560624]\n\t(No symbol) [0x0097238C]\n\t(No symbol) [0x0096E268]\n\t(No symbol) [0x0096E392]\n\t(No symbol) [0x009610B7]\n\tBaseThreadInitThunk [0x771A7D59+25]\n\tRtlInitializeExceptionChain [0x77C4B79B+107]\n\tRtlClearBits [0x77C4B71F+191]\n"
     ]
    }
   ],
   "source": [
    "try:\n",
    "    wait55 = WebDriverWait(driver, 10)\n",
    "    #comment_section = wait55.until(EC.element_to_be_clickable((By.XPATH, '/html/body/div[2]/div/div/div[2]/div/div/div/div[1]/div[1]/div[2]/section/main/div/div[1]/div/div[2]/div/div[2]')))\n",
    "    scrollComments()\n",
    "    comxpath = f\"/html/body/div[2]/div/div/div[2]/div/div/div/div[1]/div[1]/div[2]/section/main/div/div[1]/div/div[2]/div/div[2]/div/div/div[1]/div/div[2]\"\n",
    "\n",
    "    comments = wait55.until(EC.presence_of_all_elements_located((By.XPATH, comxpath)))\n",
    "except:\n",
    "    cross=WebDriverWait(driver, 15).until(EC.element_to_be_clickable((By.XPATH,\"/html/body/div[2]/div/div/div[3]/div/div/div[1]/div/div[2]/div\")))\n",
    "    cross.click()\n",
    "    \n",
    "\n",
    "wait = WebDriverWait(driver, 50)\n",
    "i=0\n",
    "for comment in comments:\n",
    "    i+=1\n",
    "    com= comment.find_element(By.TAG_NAME,\"span\").text\n",
    "    username = comment.find_element(By.TAG_NAME,\"h3\").text\n",
    "    print(\"#\",i,\"username: \",username,\" Comment: \",com)"
   ]
  },
  {
   "cell_type": "code",
   "execution_count": null,
   "metadata": {},
   "outputs": [],
   "source": []
  },
  {
   "cell_type": "code",
   "execution_count": null,
   "metadata": {},
   "outputs": [],
   "source": []
  },
  {
   "cell_type": "code",
   "execution_count": null,
   "metadata": {},
   "outputs": [],
   "source": []
  },
  {
   "cell_type": "code",
   "execution_count": null,
   "metadata": {},
   "outputs": [],
   "source": [
    "try:\n",
    "    wait55 = WebDriverWait(driver, 10)\n",
    "    comment_section = wait55.until(EC.element_to_be_clickable((By.XPATH, '/html/body/div[2]/div/div/div[2]/div/div/div/div[1]/div[1]/div[2]/section/main/div/div[1]/div/div[2]/div[2]/div/div/ul')))\n",
    "    scrollComments()\n",
    "    comxpath = f\"/html/body/div[2]/div/div/div[2]/div/div/div/div[1]/div[1]/div[2]/section/main/div/div[1]/div/div[2]/div[2]/div/div/ul/ul\"\n",
    "\n",
    "    comments = wait55.until(EC.presence_of_all_elements_located((By.XPATH, comxpath)))\n",
    "except:\n",
    "    cross=WebDriverWait(driver, 15).until(EC.element_to_be_clickable((By.XPATH,\"/html/body/div[2]/div/div/div[3]/div/div/div[1]/div/div[2]/div\")))\n",
    "    cross.click()\n",
    "    \n",
    "\n",
    "wait = WebDriverWait(driver, 50)\n",
    "i=0\n",
    "for comment in comments:\n",
    "    i+=1\n",
    "    com= comment.find_element(By.TAG_NAME,\"span\").text\n",
    "    username = comment.find_element(By.TAG_NAME,\"h3\").text\n",
    "    print(\"#\",i,\"username: \",username,\" Comment: \",com)"
   ]
  },
  {
   "cell_type": "code",
   "execution_count": null,
   "metadata": {},
   "outputs": [],
   "source": [
    "try:\n",
    "    wait55 = WebDriverWait(driver, 10)\n",
    "    comment_section = wait55.until(EC.element_to_be_clickable((By.XPATH, '/html/body/div[2]/div/div/div[2]/div/div/div/div[1]/div[1]/div[2]/section/main/div/div[1]/div/div[2]/div[2]/div/div/ul')))\n",
    "    scrollComments()\n",
    "    comxpath = f\"/html/body/div[2]/div/div/div[2]/div/div/div/div[1]/div[1]/div[2]/section/main/div/div[1]/div/div[2]/div[2]/div/div/ul/ul\"\n",
    "\n",
    "    comments = wait55.until(EC.presence_of_all_elements_located((By.XPATH, comxpath)))\n",
    "except:\n",
    "    cross=WebDriverWait(driver, 15).until(EC.element_to_be_clickable((By.XPATH,\"/html/body/div[2]/div/div/div[3]/div/div/div[1]/div/div[2]/div\")))\n",
    "    cross.click()\n",
    "    \n",
    "\n",
    "wait = WebDriverWait(driver, 50)\n",
    "i=0\n",
    "for comment in comments:\n",
    "    i+=1\n",
    "    com= comment.find_element(By.TAG_NAME,\"span\").text\n",
    "    username = comment.find_element(By.TAG_NAME,\"h3\").text\n",
    "    print(\"#\",i,\"username: \",username,\" Comment: \",com)"
   ]
  },
  {
   "cell_type": "code",
   "execution_count": null,
   "metadata": {},
   "outputs": [],
   "source": [
    "/html/body/div[4]/div[1]/div/div[2]/div/div/div/div/div[2]/div/div/div[3]/button[2]\n",
    "/html/body/div[2]/div/div/div[2]/div/div/div/div[1]/div[1]/div[2]/section/main/div/div/div/div/div\n",
    "document.querySelector(\"#mount_0_0_fh > div > div > div.x9f619.x1n2onr6.x1ja2u2z > div > div > div > div.x78zum5.xdt5ytf.x1t2pt76.x1n2onr6.x1ja2u2z.x10cihs4 > div.x9f619.xvbhtw8.x78zum5.x168nmei.x13lgxp2.x5pf9jr.xo71vjh.x1uhb9sk.x1plvlek.xryxfnj.x1c4vz4f.x2lah0s.x1q0g3np.xqjyukv.x1qjc9v5.x1oa3qoh.x1qughib > div.x1gryazu.xh8yej3.x10o80wk.x14k21rp.x17snn68.x6osk4m.x1porb0y > section > main > div > div > div > div > div\")"
   ]
  }
 ],
 "metadata": {
  "kernelspec": {
   "display_name": "Python 3",
   "language": "python",
   "name": "python3"
  },
  "language_info": {
   "codemirror_mode": {
    "name": "ipython",
    "version": 3
   },
   "file_extension": ".py",
   "mimetype": "text/x-python",
   "name": "python",
   "nbconvert_exporter": "python",
   "pygments_lexer": "ipython3",
   "version": "3.9.12"
  },
  "orig_nbformat": 4
 },
 "nbformat": 4,
 "nbformat_minor": 2
}
